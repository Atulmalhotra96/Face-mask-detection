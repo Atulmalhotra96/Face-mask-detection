{
  "nbformat": 4,
  "nbformat_minor": 0,
  "metadata": {
    "colab": {
      "name": "Resnet 50.ipynb",
      "provenance": [],
      "collapsed_sections": []
    },
    "kernelspec": {
      "name": "python3",
      "display_name": "Python 3"
    },
    "accelerator": "GPU"
  },
  "cells": [
    {
      "cell_type": "markdown",
      "metadata": {
        "id": "o4Yq8y8MIPdm"
      },
      "source": [
        "Importing all required packages"
      ]
    },
    {
      "cell_type": "code",
      "metadata": {
        "id": "BfZrtNOW_ow5"
      },
      "source": [
        "import tensorflow as tf"
      ],
      "execution_count": 1,
      "outputs": []
    },
    {
      "cell_type": "code",
      "metadata": {
        "id": "BQddqnVSBYxa"
      },
      "source": [
        "from tensorflow.keras.models import Sequential\n",
        "from tensorflow.keras.layers import Dense, Conv2D, Flatten, Dropout, MaxPooling2D\n",
        "from tensorflow.keras.preprocessing.image import ImageDataGenerator\n",
        "from keras.preprocessing.image import ImageDataGenerator\n",
        "import os\n",
        "import numpy as np\n",
        "import matplotlib.pyplot as plt \n",
        "from tensorflow.keras.applications.resnet50 import ResNet50\n",
        "from tensorflow.keras.preprocessing import image\n",
        "from tensorflow.keras.applications.resnet50 import preprocess_input, decode_predictions\n",
        "import numpy as np\n"
      ],
      "execution_count": 2,
      "outputs": []
    },
    {
      "cell_type": "code",
      "metadata": {
        "id": "-MpYXcDcBY-D",
        "outputId": "40cde542-7ea5-492f-f118-04d1f50a9c18",
        "colab": {
          "base_uri": "https://localhost:8080/",
          "height": 34
        }
      },
      "source": [
        "from google.colab import drive\n",
        "drive.mount('/content/drive')\n"
      ],
      "execution_count": 3,
      "outputs": [
        {
          "output_type": "stream",
          "text": [
            "Drive already mounted at /content/drive; to attempt to forcibly remount, call drive.mount(\"/content/drive\", force_remount=True).\n"
          ],
          "name": "stdout"
        }
      ]
    },
    {
      "cell_type": "code",
      "metadata": {
        "id": "8HRmPG8MBZDw"
      },
      "source": [
        "IMAGE_SIZE = [224, 224,3]"
      ],
      "execution_count": 4,
      "outputs": []
    },
    {
      "cell_type": "markdown",
      "metadata": {
        "id": "gMBI2uqyIjHu"
      },
      "source": [
        "Setting training and Testing path"
      ]
    },
    {
      "cell_type": "code",
      "metadata": {
        "id": "D_oCwK3UBZJU"
      },
      "source": [
        "train_path = '/content/drive/My Drive/transfer learning masks/covid masks/train'\n",
        "valid_path = '/content/drive/My Drive/transfer learning masks/covid masks/test'"
      ],
      "execution_count": 5,
      "outputs": []
    },
    {
      "cell_type": "markdown",
      "metadata": {
        "id": "-LGqY1nPXXIW"
      },
      "source": [
        "Preprocessing the Images"
      ]
    },
    {
      "cell_type": "code",
      "metadata": {
        "id": "ZTIs6hCJXOD5",
        "outputId": "aea683e9-234d-4ba9-90be-d75d028ef760",
        "colab": {
          "base_uri": "https://localhost:8080/",
          "height": 50
        }
      },
      "source": [
        "from keras.preprocessing.image import ImageDataGenerator\n",
        "\n",
        "train_datagen = ImageDataGenerator(rescale = 1./255,\n",
        "                                   shear_range = 0.2,\n",
        "                                   zoom_range = 0.2,\n",
        "                                   horizontal_flip = True)\n",
        "\n",
        "test_datagen = ImageDataGenerator(rescale = 1./255,\n",
        "                                  rotation_range = 20,\n",
        "                    zoom_range = 0.15,\n",
        "                    width_shift_range = 0.2,\n",
        "                    height_shift_range = 0.2,\n",
        "                    shear_range = 0.15,\n",
        "                    horizontal_flip = True,\n",
        "                    fill_mode=\"nearest\")\n",
        "\n",
        "training_set = train_datagen.flow_from_directory(train_path,\n",
        "                                                 target_size = (224, 224),\n",
        "                                                 batch_size = 16,\n",
        "                                                 class_mode = 'categorical')\n",
        "\n",
        "test_set = test_datagen.flow_from_directory(valid_path,\n",
        "                                            target_size = (224, 224),\n",
        "                                            batch_size = 16,\n",
        "                                            class_mode = 'categorical')"
      ],
      "execution_count": 6,
      "outputs": [
        {
          "output_type": "stream",
          "text": [
            "Found 919 images belonging to 2 classes.\n",
            "Found 397 images belonging to 2 classes.\n"
          ],
          "name": "stdout"
        }
      ]
    },
    {
      "cell_type": "markdown",
      "metadata": {
        "id": "kEiJrAKmIsY5"
      },
      "source": [
        "Using ResNet50 for Transfer Learning on our dataset"
      ]
    },
    {
      "cell_type": "code",
      "metadata": {
        "id": "4i-NKG86BZPD"
      },
      "source": [
        "Res = ResNet50(input_shape=IMAGE_SIZE, weights='imagenet', include_top=False)\n",
        "last_layer=Res.output            \n",
        "last_layer = tf.keras.layers.AveragePooling2D(pool_size = (7,7))(last_layer)\n",
        "last_layer = tf.keras.layers.Flatten()(last_layer)\n",
        "last_layer = tf.keras.layers.Dense(256, activation = 'relu')(last_layer)\n",
        "last_layer = tf.keras.layers.Dropout(0.5)(last_layer)\n",
        "last_layer = tf.keras.layers.Dense(2, activation = 'softmax')(last_layer)"
      ],
      "execution_count": null,
      "outputs": []
    },
    {
      "cell_type": "markdown",
      "metadata": {
        "id": "rlOj6I0ow8ja"
      },
      "source": [
        "Accessing masked and unmasked images files from our folder"
      ]
    },
    {
      "cell_type": "code",
      "metadata": {
        "id": "U9AX3zCPBZak"
      },
      "source": [
        "from glob import glob\n",
        "folders = glob('/content/drive/My Drive/transfer learning masks/covid masks/train/*')"
      ],
      "execution_count": null,
      "outputs": []
    },
    {
      "cell_type": "code",
      "metadata": {
        "id": "16n0W-5tQRTW"
      },
      "source": [
        ""
      ],
      "execution_count": null,
      "outputs": []
    },
    {
      "cell_type": "markdown",
      "metadata": {
        "id": "vDZym8hKJPi5"
      },
      "source": [
        "Creating our model"
      ]
    },
    {
      "cell_type": "code",
      "metadata": {
        "id": "D28PDZuuBZxh"
      },
      "source": [
        "from keras.models import Model\n",
        "model = Model(inputs=Res.input, outputs=last_layer)"
      ],
      "execution_count": null,
      "outputs": []
    },
    {
      "cell_type": "markdown",
      "metadata": {
        "id": "ri3nIonyJVQu"
      },
      "source": [
        "Checking summary of our model for checking the layers in the network"
      ]
    },
    {
      "cell_type": "code",
      "metadata": {
        "id": "g6lDsVvWBZ3F"
      },
      "source": [
        "model.summary()\n"
      ],
      "execution_count": null,
      "outputs": []
    },
    {
      "cell_type": "markdown",
      "metadata": {
        "id": "SeFYVdaxJdq3"
      },
      "source": [
        "Compiling model with hyperparameters"
      ]
    },
    {
      "cell_type": "code",
      "metadata": {
        "id": "gYY9rOsvNNNi"
      },
      "source": [
        "model.compile(\n",
        "  loss='categorical_crossentropy',\n",
        "  optimizer='adam',\n",
        "  metrics=['accuracy']\n",
        ")"
      ],
      "execution_count": null,
      "outputs": []
    },
    {
      "cell_type": "markdown",
      "metadata": {
        "id": "UFC34xUmLKBa"
      },
      "source": [
        "Fitting the model with our dataset"
      ]
    },
    {
      "cell_type": "code",
      "metadata": {
        "id": "Gnj3N2hjBZ2n"
      },
      "source": [
        "r = model.fit_generator(\n",
        "  training_set,\n",
        "  validation_data=test_set,\n",
        "  epochs=26,\n",
        "  steps_per_epoch=len(training_set),\n",
        "  validation_steps=len(test_set))"
      ],
      "execution_count": null,
      "outputs": []
    },
    {
      "cell_type": "markdown",
      "metadata": {
        "id": "kFLxP5-DLSOq"
      },
      "source": [
        "Evaluating the model"
      ]
    },
    {
      "cell_type": "code",
      "metadata": {
        "id": "CEiJAT4HBZxA"
      },
      "source": [
        " train_acc=model.evaluate(training_set,verbose=2)\n",
        " test_acc = model.evaluate(test_set, verbose=2)"
      ],
      "execution_count": null,
      "outputs": []
    },
    {
      "cell_type": "code",
      "metadata": {
        "id": "KqXJPcbkBZrN"
      },
      "source": [
        "train_acc"
      ],
      "execution_count": null,
      "outputs": []
    },
    {
      "cell_type": "code",
      "metadata": {
        "id": "l6OP2kk7BZll"
      },
      "source": [
        "test_acc"
      ],
      "execution_count": null,
      "outputs": []
    },
    {
      "cell_type": "code",
      "metadata": {
        "id": "5t3sF86ZBZfu"
      },
      "source": [
        "\n"
      ],
      "execution_count": null,
      "outputs": []
    },
    {
      "cell_type": "code",
      "metadata": {
        "id": "NF--nnMbBZaE"
      },
      "source": [
        ""
      ],
      "execution_count": null,
      "outputs": []
    },
    {
      "cell_type": "code",
      "metadata": {
        "id": "j5npGlIwBZUX"
      },
      "source": [
        ""
      ],
      "execution_count": null,
      "outputs": []
    },
    {
      "cell_type": "code",
      "metadata": {
        "id": "3YIGzjjeBZOm"
      },
      "source": [
        ""
      ],
      "execution_count": null,
      "outputs": []
    },
    {
      "cell_type": "code",
      "metadata": {
        "id": "DDUKF8BHBZI5"
      },
      "source": [
        ""
      ],
      "execution_count": null,
      "outputs": []
    },
    {
      "cell_type": "code",
      "metadata": {
        "id": "3Sy5ASR8BZDV"
      },
      "source": [
        ""
      ],
      "execution_count": null,
      "outputs": []
    },
    {
      "cell_type": "code",
      "metadata": {
        "id": "njb2bsX4BY9s"
      },
      "source": [
        ""
      ],
      "execution_count": null,
      "outputs": []
    },
    {
      "cell_type": "code",
      "metadata": {
        "id": "kZ-5T9aNxVQt"
      },
      "source": [
        ""
      ],
      "execution_count": null,
      "outputs": []
    },
    {
      "cell_type": "code",
      "metadata": {
        "id": "ilABSlmGxVPT"
      },
      "source": [
        ""
      ],
      "execution_count": null,
      "outputs": []
    }
  ]
}